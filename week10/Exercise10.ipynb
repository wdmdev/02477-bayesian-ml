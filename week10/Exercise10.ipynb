{
 "cells": [
  {
   "cell_type": "markdown",
   "metadata": {},
   "source": [
    "# 02477 Bayesian machine learning - Exercise 10"
   ]
  },
  {
   "cell_type": "code",
   "execution_count": 2,
   "metadata": {},
   "outputs": [
    {
     "name": "stderr",
     "output_type": "stream",
     "text": [
      "/home/miri/anaconda3/envs/ATEL/lib/python3.7/site-packages/pandas/compat/_optional.py:138: UserWarning: Pandas requires version '2.7.0' or newer of 'numexpr' (version '2.6.9' currently installed).\n",
      "  warnings.warn(msg, UserWarning)\n"
     ]
    }
   ],
   "source": [
    "%matplotlib inline\n",
    "import numpy as np\n",
    "import pylab as plt\n",
    "import seaborn as snb\n",
    "\n",
    "snb.set_style('darkgrid')\n",
    "snb.set(font_scale=1.5)"
   ]
  },
  {
   "attachments": {},
   "cell_type": "markdown",
   "metadata": {},
   "source": [
    "The purpose of this exercise is to become familiar with variational inference and to demystify the calculations involved.\n",
    "\n",
    "In this exercise, we will analyze a very simple Bayesian model in two ways. First, we will derive the exact posterior distribution and the exact marginal likelihood analytically. Next, we derive a variational approximation and compare the approximate results to the exact results. This also provides an opportunity the practice some of the basic concepts of probabilistic calculations, i.e. manipulating distribution using the sum and product rules.\n",
    "\n",
    "\n",
    "The exercise is divided into 4 parts:\n",
    "\n",
    "- Part 0: Motivation for the choice of toy example\n",
    "\n",
    "\n",
    "- Part 1: Exact inference\n",
    "\n",
    "\n",
    "- Part 2: Variational inference and CAVI updates\n",
    "\n",
    "\n",
    "- Part 3: The lower bound\n"
   ]
  },
  {
   "cell_type": "markdown",
   "metadata": {},
   "source": [
    "### Part 0: Motivation for the toy example"
   ]
  },
  {
   "attachments": {},
   "cell_type": "markdown",
   "metadata": {},
   "source": [
    "\n",
    "In statistics and machine learning, a **sparse** vector is a vector, where the majority of its entries is exactly equal to zero. For example, \n",
    "\n",
    "$$\\mathbf{x} = \\begin{bmatrix} 0 & 0 & 2.3 & 0 & 4.7 & 0 & 0\\end{bmatrix}$$\n",
    "\n",
    "is a sparse vector.  **Sparsity** is a very efficient tool for tackling high-dimensional problems. Assuming sparsity often allows us to solve high-dimensional regression problems, where the number of features $D$ is much larger than then number of observations $N$, i.e. $D \\gg N$. Informally, this works because the sparsity mechanism allows the models to ignore irrelevant or noisy features automatically. Sparsity can also play a key role in interpretability.\n",
    "\n",
    "In classical machine learning, $\\ell_1$-regularization (LASSO) is a common way to introduce sparsity. In the Bayesian world, there are several ways to model sparsity, incl. **automatic relevance determination**, **Horseshoe priors** and **spike-and-slab priors**.\n",
    "\n",
    "The so-called spike-and-slab prior is very easy to understand from a generative perspective. Suppose we impose such a prior distribution on a parameter $w$, then the generative process goes as follows:\n",
    "\n",
    "1. We \"flip a coin\" with probability $p_0$ to determine whether our parameter $w$ is zero ($s = 0$) or non-zero ($s = 1$):\n",
    "\n",
    "$$s \\sim \\text{Ber}(p_0)$$\n",
    "\n",
    "2. If it turns out to be non-zero ($s =1$), we sample the coefficient from a Gaussian (or another distributions).\n",
    "\n",
    "$$w \\sim \\mathcal{N}(0, 1)$$\n",
    "\n",
    "3. We define the parameter $\\tilde{w}$ as\n",
    "\n",
    "$$\\tilde{w} = s \\cdot w$$\n",
    "\n",
    "This process forces $w$ to be exactly zero if $s = 0$ irregardless of the value of $w$.\n",
    "\n",
    "This prior is called the spike-and-slab prior because the marginal distribution of $w$ is a mixture of a \"spike\" at $\\tilde{w} = 0$ and a Gaussian (the slab). \n",
    "\n",
    "\n",
    "\n",
    "\n",
    "\n",
    "\n"
   ]
  },
  {
   "cell_type": "markdown",
   "metadata": {},
   "source": [
    "### Part 1: Exact inference in a toy example"
   ]
  },
  {
   "cell_type": "markdown",
   "metadata": {},
   "source": [
    "We will work with a very simple toy model with a Gaussian likelihood and a spike-and-slab prior on the mean of the Gaussian. Let $t \\in \\mathbb{R}$ be an observation, let $s \\in \\left\\lbrace 0, 1 \\right\\rbrace$ be a binary variable and let $w \\in \\mathbb{R}$ be a parameter, then\n",
    "\n",
    "$$\\begin{align*}\n",
    "t = s\\cdot w + e,\n",
    "\\end{align*}\n",
    "$$\n",
    "\n",
    "where $e \\sim \\mathcal{N}(0, \\sigma^2)$ is additive Gaussian noise. Here the binary variable $s \\in \\left\\lbrace 0, 1\\right\\rbrace$ indicates whether the parameter $w$ is \"active\" or not:\n",
    "\n",
    "$$\n",
    "\\begin{align*}\n",
    "t|s=0 &\\sim \\mathcal{N}(0, \\sigma^2)\\\\\n",
    "t|s=1 &\\sim \\mathcal{N}(w, \\sigma^2)\n",
    "\\end{align*}\n",
    "$$\n",
    "\n",
    "In other words, $s$ dictates whether the recorded observation $t$ is generated by signal + noise, i.e. $t = w + e$, or by pure noise, i.e. $t = e$. Assuming a Gaussian prior on $w$ and a Bernoulli prior on $s$, we can write the joint model as follows\n",
    "\n",
    "$$\\begin{align*}\n",
    "p(t, s, w) &= p(t|s, w)p(s)p(w)\\\\\n",
    "&= \\mathcal{N}(t|sw, \\sigma^2)\\text{Ber}(s|p_0)\\mathcal{N}(w|0, \\kappa^2)\n",
    "\\end{align*}\n",
    "$$\n",
    "\n",
    "Note that the model only contains a single observation $t$, i.e. $N = 1$. We can easily extend it and the all results to $N$ observations, but we stick to $N = 1$ to keep to derivations simple as possible.\n",
    "\n",
    "\n",
    "In this exercise, we will focus on the marginal posterior $p(s|t)$, which can be interpreted as the probability of the parameter $w$ is \"active\", i.e. non-zero, after seeing the data. This quantity is therefore often used for feature and model selection. \n",
    "\n",
    "As usual, we obtain the joint posterior from Bayes' rule\n",
    "\n",
    "$$\n",
    "\\begin{align*}\n",
    "p(w, s|t) = \\frac{p(t|s, w)p(s)p(w)}{p(t)}.\n",
    "\\end{align*}\n",
    "$$\n",
    "\n",
    "We can easily obtain the marginal posterior $p(s|t)$ from the joint posterior, but first, we will deal with the marginal likelihood $p(t)$.\n"
   ]
  },
  {
   "attachments": {},
   "cell_type": "markdown",
   "metadata": {},
   "source": [
    "### Part 1.1: The marginal likelihood\n",
    "\n",
    "Because this model is very simple, we can derive the normalization constant, i.e. $p(t)$, in closed form by applying the sum rule to marginalize over $s$ and $w$.\n",
    "\n",
    "**Task 1:** Show that the marginal likelihood $p(t)$ is given by\n",
    "\n",
    "$$p(t) =  (1-p_0)\\mathcal{N}(t|0, \\sigma^2) + p_0\\mathcal{N}(t|0, \\sigma^2 + \\kappa^2)\\tag{1}$$\n",
    "\n",
    "\n",
    "*Hints*\n",
    "1. The marginal distribution $p(t)$ can be obtained from the joint distribution $p(t, s, w$) by marginalizing over $s$ and $w$.\n",
    "2. The following integral $\\int \\mathcal{N}(t|sw, \\sigma^2)\\mathcal{N}(w|0, \\kappa^2) \\text{d}w = \\mathcal{N}(t|0, \\sigma^2 + s^2 \\kappa^2)$ will be useful. It is follows from eq. (2.115) in Bishop.\n",
    "3. Don't hesitate to ask for help if you are stuck.\n",
    "\n"
   ]
  },
  {
   "cell_type": "markdown",
   "metadata": {},
   "source": [
    "### Part 1.2: The marginal posterior p(s|t)\n"
   ]
  },
  {
   "attachments": {},
   "cell_type": "markdown",
   "metadata": {},
   "source": [
    "Next, we will derive the joint posterior $p(w, s|t)$ using Bayes rule\n",
    "\n",
    "$$\n",
    "\\begin{align*}\n",
    "p(w, s|t) &= \\frac{p(t|s, w)p(s)p(w)}{p(t)}\\\\\n",
    "&= \\frac{\\mathcal{N}(t|sw, \\sigma^2)\\text{Ber}(s|p_0)\\mathcal{N}(w|0, \\kappa^2)}{(1-p_0)\\mathcal{N}(t|0, \\sigma^2) + p_0\\mathcal{N}(t|0, \\sigma^2 + \\kappa^2)} \\\\\n",
    "&= \\frac{\\mathcal{N}(t|sw, \\sigma^2)\\text{Ber}(s|p_0)\\mathcal{N}(w|0, \\kappa^2)}{Z_t}, \n",
    "\\end{align*}\n",
    "$$\n",
    "\n",
    "where we have defined $Z_t \\equiv (1-p_0)\\mathcal{N}(t|0, \\sigma^2) + p_0\\mathcal{N}(t|0, \\sigma^2 + \\kappa^2)$ to ease the notation.\n",
    "\n",
    "\n",
    "Once we have the joint posterior, we can easily compute the marginal posterior $p(s|t)$ by marginalizing over $w$ in $p(w, s|t)$\n",
    "\n",
    "\n",
    "\\begin{align*}\n",
    "p(s|t) &= \\int \\frac{\\mathcal{N}(t|sw, \\sigma^2)\\text{Ber}(s|p_0)\\mathcal{N}(w|0, \\kappa^2)}{Z_t} \\text{d}w\\\\\n",
    "%\n",
    "&= \\frac{\\int  \\mathcal{N}(t|sw, \\sigma^2)\\mathcal{N}(w|0, \\kappa^2)\\text{d}w \\,\\text{Ber}(s|p_0)}{Z_t}\\\\\n",
    "%\n",
    "&= \\frac{\\mathcal{N}(t|0, \\sigma^2 + s^2 \\kappa^2) \\text{Ber}(s|p_0)}{Z_t}\\tag{a}\n",
    "\\end{align*}\n",
    "\n",
    "\n",
    "where we have used eq. $(2.115)$ again in the last line. We could obtain $p(w|t)$ in a similar fashion by marginalizing over $s$ in $p(w, s|t)$.\n",
    "\n",
    "\n",
    "\n",
    "\n",
    "\n",
    "**Task 2**: Use the equation above to argue that the posterior probability $p(s=1|t)$ is given by:\n",
    "\n",
    "$$ p(s=1|t) =\\frac{ p_0\\mathcal{N}(t|0, \\sigma^2 + \\kappa^2)}{Z_t}$$\n",
    "\n",
    "*Hints*\n",
    "1. This is meant to be a very easy and straight-forward question\n"
   ]
  },
  {
   "cell_type": "markdown",
   "metadata": {},
   "source": [
    "### Part 1.3: Visualizing the results"
   ]
  },
  {
   "attachments": {},
   "cell_type": "markdown",
   "metadata": {},
   "source": [
    "Assuming $\\sigma^2 = 0.1$ and $\\kappa^2 = 1$, let's visualize $p(s=1|t)$ as a function of $t$ for various values of $p_0$\n",
    "\n",
    "**Task 3**: Plot $p(s=1|t)$ as a function of $t \\in \\left[-3, 3 \\right]$ for the following three different values of $p_0 \\in \\left\\lbrace 0.1, 0.5, 0.9 \\right\\rbrace$"
   ]
  },
  {
   "cell_type": "code",
   "execution_count": 1,
   "metadata": {},
   "outputs": [
    {
     "ename": "NameError",
     "evalue": "name 'np' is not defined",
     "output_type": "error",
     "traceback": [
      "\u001b[0;31m---------------------------------------------------------------------------\u001b[0m",
      "\u001b[0;31mNameError\u001b[0m                                 Traceback (most recent call last)",
      "\u001b[0;32m<ipython-input-1-55f9eb6a66e2>\u001b[0m in \u001b[0;36m<module>\u001b[0;34m\u001b[0m\n\u001b[1;32m      4\u001b[0m \u001b[0;34m\u001b[0m\u001b[0m\n\u001b[1;32m      5\u001b[0m \u001b[0;31m# values for t\u001b[0m\u001b[0;34m\u001b[0m\u001b[0;34m\u001b[0m\u001b[0;34m\u001b[0m\u001b[0m\n\u001b[0;32m----> 6\u001b[0;31m \u001b[0mt_grid\u001b[0m \u001b[0;34m=\u001b[0m \u001b[0mnp\u001b[0m\u001b[0;34m.\u001b[0m\u001b[0mlinspace\u001b[0m\u001b[0;34m(\u001b[0m\u001b[0;34m-\u001b[0m\u001b[0;36m3\u001b[0m\u001b[0;34m,\u001b[0m \u001b[0;36m3\u001b[0m\u001b[0;34m,\u001b[0m \u001b[0;36m100\u001b[0m\u001b[0;34m)\u001b[0m\u001b[0;34m\u001b[0m\u001b[0;34m\u001b[0m\u001b[0m\n\u001b[0m\u001b[1;32m      7\u001b[0m \u001b[0;34m\u001b[0m\u001b[0m\n\u001b[1;32m      8\u001b[0m \u001b[0;31m# fixed hyperparameters\u001b[0m\u001b[0;34m\u001b[0m\u001b[0;34m\u001b[0m\u001b[0;34m\u001b[0m\u001b[0m\n",
      "\u001b[0;31mNameError\u001b[0m: name 'np' is not defined"
     ]
    }
   ],
   "source": [
    "# definition of Bernoulli and Gaussian distributions\n",
    "npdf = lambda x, m, v: np.exp(-(x-m)**2/(2*v))/np.sqrt(2*np.pi*v)\n",
    "ber = lambda s, p: p**s*(1-p)**(1-s)\n",
    "\n",
    "# values for t\n",
    "t_grid = np.linspace(-3, 3, 100)\n",
    "\n",
    "# fixed hyperparameters\n",
    "kappa2 = 1\n",
    "sigma2 = 0.1\n",
    "\n",
    "##################################################################################\n",
    "# Solution to task 3\n",
    "##################################################################################\n",
    "# ..."
   ]
  },
  {
   "attachments": {},
   "cell_type": "markdown",
   "metadata": {},
   "source": [
    "**Questions**\n",
    "\n",
    "1) What happens to the posterior $p(s|t)$ probability as $|t|$ increases? Use the model equation $t = s\\cdot w + e$ to explain why this make sense. *Hint: Which values to we expect for $t$ when $s=0$?*\n",
    "\n",
    "2) What happens when $p_0$ is decreased? and why?"
   ]
  },
  {
   "cell_type": "markdown",
   "metadata": {},
   "source": [
    "### Part 2: Variational inference"
   ]
  },
  {
   "attachments": {},
   "cell_type": "markdown",
   "metadata": {},
   "source": [
    "In this part, we will now set-up a variational approximation $q(s,w)$ to approximate the posterior distribution $p(s, w|t) \\approx q(s,w)$. We will use the following factorized variational family\n",
    "\n",
    "$$\n",
    "\\begin{align*}\n",
    "q(s, w) = q(s)q(w) = \\text{Ber}(s|\\hat{p}) \\mathcal{N}(w|\\hat{m}, \\hat{v})\n",
    "\\end{align*}\n",
    "$$\n",
    "\n",
    "\n",
    "We now assume that the $s$ and $w$ are independent in the posterior and that the posterior distributions of $s$ and $w$ are a Bernoulli distribution (with parameter $\\hat{p}$) and a Gaussian distribution (with parameters $\\hat{m}$ and $\\hat{v}$), respectively. Thus, the task of searching for a 'good' approximation is reduced to searching for a good set of **variational parameters** $(\\hat{p}, \\hat{m}, \\hat{v})$.\n",
    "\n",
    "Our goal is to identify the distribution $q(s, w|\\hat{p}, \\hat{m}, \\hat{v})$ that minimizes the KL-divergence between the exact posterior $p(s,w|t)$ and the approximation. Thus, given some observation $t$, we want to determine the variational parameters $\\hat{p}$, $\\hat{m}$, and $\\hat{v}$. \n",
    "\n",
    "In general, we can find the optimal approximation (as measured by the KL divergence) by maximizing the **evidence lowerbound** (ELBO) $\\mathcal{L}(q)$\n",
    "\n",
    "$$\\mathcal{L}(q) = \\mathbb{E}_q\\left[\\ln p(t, s, w)\\right] - \\mathbb{E}_q\\left[\\ln q(s, w)\\right]$$\n",
    "\n",
    "wrt. the variational parameters $\\hat{m}$, $\\hat{v}$ and $\\hat{p}$. \n",
    "\n",
    "However for factorized variational families, we can determine the optimal approximation for $q^*(s)$ and $q^*(w)$ using the following equations (as discussed in lecture 9 and in Sec. 10.1. in Bishop)\n",
    "\n",
    "$$\n",
    "\\begin{align*}\n",
    "\\ln q^* (w) &= \\mathbb{E}_{q(s)}\\left[ \\ln \\left(p(t|s, w)p(s)p(w)\\right)\\right] + K_w\\\\\n",
    "\\ln q^*(s) &= \\mathbb{E}_{q(w)}\\left[ \\ln \\left(p(t|s, w)p(s)p(w)\\right)\\right] + K_s,\n",
    "\\end{align*}\n",
    "$$\n",
    "where $K_w$ and $K_s$ are constants.\n",
    "\n",
    "We will now go through these calculations in details. "
   ]
  },
  {
   "cell_type": "markdown",
   "metadata": {},
   "source": [
    "### Part 2.1: Optimal distribution for $q(w)$"
   ]
  },
  {
   "cell_type": "markdown",
   "metadata": {},
   "source": [
    "Our starting point is the equation for $\\ln q^* (w)$. Similar to the derivation of the Gibbs sampler in exercise 8, we focus on terms that depends on $w$ and absorb the rest an the additive constant. Let's plug in the model distributions and simplify:\n",
    "\n",
    "\n",
    "\\begin{align*}\n",
    "\\ln q^* (w) &= \\mathbb{E}_{q(s)}\\left[ \\ln p(t|s, w)p(s)p(w)\\right] + K\\\\\n",
    "&=  \\mathbb{E}_{q(s)}\\left[\\ln \\mathcal{N}(t|sw, \\sigma^2)\\text{Ber}(s|p_0)\\mathcal{N}(w|0, \\kappa^2)\\right] + K\\\\\n",
    "&=  \\mathbb{E}_{q(s)}\\left[\\ln \\mathcal{N}(t|sw, \\sigma^2)\\right] + \\mathbb{E}_{q(s)}\\left[ \\ln \\text{Ber}(s|p_0)\\right] + \\mathbb{E}_{q(s)}\\left[ \\ln \\mathcal{N}(w|0, \\kappa^2)\\right] +K\\\\\n",
    "&=  \\mathbb{E}_{q(s)}\\left[\\ln \\mathcal{N}(t|sw, \\sigma^2)\\right] +  \\ln \\mathcal{N}(w|0, \\kappa^2) + K' \\tag{4}\n",
    "\\end{align*}\n",
    "\n",
    "\n",
    "where we have absorbed the term $ \\mathbb{E}_{q(s)}\\left[ \\ln \\text{Ber}(s|p_0)\\right]$ into the constant because it is independent of $w$. We also used the fact that $\\ln \\mathcal{N}(w|0, \\kappa^2)$ is independet of $q(s)$.\n",
    "\n",
    "***Task 4***: For $q(z) = \\text{Ber}(z|\\hat{p})$, show that $\\mathbb{E}_q\\left[z\\right] = \\hat{p}$ and $\\mathbb{E}_q\\left[z^2\\right] = \\hat{p}$.\n",
    "\n",
    "*Hint*: The definition of the $n$-th moment of discrete random variable with distribution $p$ is $\\mathbb{E}_p\\left[z^n\\right] = \\sum_{z} z^n p(z)$."
   ]
  },
  {
   "cell_type": "markdown",
   "metadata": {},
   "source": [
    "\n",
    "**Task 5**: Insert the expressions for the Gaussian densities into eq. (4) and show that it simplifies to\n",
    "\n",
    "\n",
    "$$\n",
    "\\ln q^* (w) = - \\frac{1}{2} \\left[\\frac{1}{\\sigma^2}\\hat{p} +  \\frac{1}{\\kappa^2}\\right] w^2 + \\frac{1}{\\sigma^2} \\hat{p} t w  + K' \\tag{5}\n",
    "$$\n",
    "\n",
    "*Hints:*\n",
    "1. Absorb all terms independent of $w$ into the constant (e.g. normalization terms from the Gaussian densities)\n",
    "2. Remember that expectations are linear\n",
    "3. The results of task 4 will come in handy\n",
    "4. Collect all terms that depends on $w^2$ and collect all terms that depends on $w$\n",
    "\n",
    "\n",
    "\n"
   ]
  },
  {
   "attachments": {},
   "cell_type": "markdown",
   "metadata": {},
   "source": [
    "By inspection of eq. (5), we recognize the functional form of $\\ln q(w)$ as a quadratic function of $w$ and thus, we conclude that $q(w)$ must be a Gaussian distribution. (We already made that assumption, but now we proved that it is optimal)\n",
    "\n",
    "\n",
    "Consider the log density for a generic Gaussian distribution with mean $m$ and variance $v$\n",
    "$$\n",
    "\\begin{align*}\n",
    "\\ln \\mathcal{N}(w|m,v) &= -\\frac{1}{2}\\log(2\\pi v) -\\frac{1}{2v}(w-m)^2\\\\\n",
    "&= -\\frac{1}{2v}(w^2 + m^2 - 2wm) + K\\\\\n",
    "&= -\\frac{1}{2v}w^2 + \\frac{m}{v} w + K' \\tag{6}\n",
    "\\end{align*}\n",
    "$$\n",
    "\n",
    "**Task 6**: By comparing the coefficients for $w$ and $w^2$ in eq. (5) and (6), show that the mean $\\hat{m}$ and variance $\\hat{v}$ of $q(w) = \\mathcal{N}(w|\\hat{m}, \\hat{w})$ are given by\n",
    "\n",
    "$$\n",
    "\\begin{align*}\n",
    "\\hat{m} &=  \\frac{\\hat{v}}{\\sigma^2} \\hat{p} t \\tag{7}\n",
    "\\end{align*}\n",
    "$$\n",
    "$$\n",
    "\\begin{align*}\n",
    "\\hat{v} &=\\frac{1}{\\frac{1}{\\sigma^2}\\hat{p} +  \\frac{1}{\\kappa^2}}\\tag{8}\n",
    "\\end{align*}\n",
    "$$\n"
   ]
  },
  {
   "cell_type": "markdown",
   "metadata": {},
   "source": [
    "Notice that the optimal values for $\\hat{m}$ and $\\hat{v}$ depend on $\\hat{p}$, i.e. the variational parameter for $q(s)$.\n",
    "\n",
    "This concludes the calculation for $q(w) = \\mathcal{N}(w|\\hat{m}, \\hat{v})$. Let's do the same for $q(s)$."
   ]
  },
  {
   "cell_type": "markdown",
   "metadata": {},
   "source": [
    "### Part 2.2: The optimal distribution for $q(s)$"
   ]
  },
  {
   "cell_type": "markdown",
   "metadata": {},
   "source": [
    "We will use the same strategy for $q(s)$ and now focus on terms that depends on $s$"
   ]
  },
  {
   "cell_type": "markdown",
   "metadata": {},
   "source": [
    "$$\n",
    "\\begin{align*}\n",
    "\\ln q^*(s) &= \\mathbb{E}_{q(w)}\\left[ \\ln p(t|s, w)p(s)p(w)\\right] + K\\\\\n",
    "%\n",
    "&=  \\mathbb{E}_{q(w)}\\left[\\ln \\mathcal{N}(t|sw, \\sigma^2)\\text{Ber}(s|p_0)\\mathcal{N}(w|0, \\kappa^2)\\right] + K\\\\\n",
    "%\n",
    "&=  \\mathbb{E}_{q(w)}\\left[\\ln \\mathcal{N}(t|sw, \\sigma^2) \\right] + \\mathbb{E}_{q(w)}\\left[\\ln \\text{Ber}(s|p_0)\\right] + \\mathbb{E}_{q(w)}\\left[ \\ln \\mathcal{N}(w|0, \\kappa^2)\\right] + K\\\\\n",
    "%\n",
    "&=  \\mathbb{E}_{q(w)}\\left[\\ln \\mathcal{N}(t|sw, \\sigma^2) \\right] + \\ln \\text{Ber}(s|p_0) + K',\n",
    "\\end{align*}\n",
    "$$\n",
    "\n",
    "where we have absorbed to term $\\mathbb{E}_{q(w)}\\left[ \\ln  \\mathcal{N}(w|0, \\kappa^2)\\right]$ into the constant because it is independent of $s$.\n",
    "\n",
    "**Task 7**: Show that $\\ln q^*(s)$ is given by\n",
    "\n",
    "\\begin{align*}\n",
    "\\ln q^*(s) &= -s^2\\frac{1}{2\\sigma^2}\\left[\\hat{m}^2 + \\hat{v}\\right] + ts \\frac{1}{\\sigma^2}  \\hat{m} + (1-s)  \\ln(1-p_0) + s \\ln(p_0) + K \\tag{9}\n",
    "\\end{align*}\n",
    "\n",
    "*Hint*: The first two moments of a Gaussian are $\\mathbb{E}_{q(w)}\\left[w\\right] = \\hat{m}$ and $\\mathbb{E}_{q(w)}\\left[w^2\\right] = \\hat{m}^2 + \\hat{v}$\n",
    "\n",
    "\n"
   ]
  },
  {
   "cell_type": "markdown",
   "metadata": {},
   "source": [
    "***Normalizing the distribution $q^*(s)$***\n",
    "\n",
    "\n",
    "We can now calculate\n",
    "\n",
    "$$\n",
    "\\begin{align*}\n",
    "\\ln q^*(s=0) &= \\ln(1-p_0) + K\\\\\n",
    "\\ln q^*(s=1) &= -\\frac{1}{2\\sigma^2}\\left[\\hat{m}^2 + \\hat{v}\\right] + t \\frac{1}{\\sigma^2}  \\hat{m} + \\ln(p_0) + K\n",
    "\\end{align*}\n",
    "$$\n"
   ]
  },
  {
   "cell_type": "markdown",
   "metadata": {},
   "source": [
    "Since $q^*(s)$ is a Bernoulli distribution with parameter $\\hat{p}$ and $q^*(s=0) + q^*(s=1) = 1$, we know that\n",
    "\n",
    "$$\n",
    "\\begin{align*}\n",
    "\\hat{p} = q^*(s=1) &= \\frac{q^*(s=1)}{q^*(s=0) + q^*(s=1)} \\tag{10}\n",
    "\\end{align*}\n",
    "$$\n",
    "\n",
    "Therefore, we can compute $\\hat{p}$ by exponentiating and summing over $s$ in eq. (9) to normalize it.\n",
    "Again, we notice that the optimal value for $\\hat{p}$ depends on the variational parameters of $q(w)$.\n",
    "\n",
    "\n"
   ]
  },
  {
   "cell_type": "markdown",
   "metadata": {},
   "source": [
    "### Part 2.3: Fixed-point algorithms"
   ]
  },
  {
   "cell_type": "markdown",
   "metadata": {},
   "source": [
    "We now have a set of equations for $q(w)$ that depends on $q(s)$ and vice versa. \n",
    "We can now use eq. (7), (8), and (10) to implement a simple fixed-point algorithm for fitting the variational approximation. This means that we inialize $\\hat{p}$, $\\hat{m}$ and $\\hat{v}$ and we simply iterate the three equations until we reach convergence."
   ]
  },
  {
   "cell_type": "markdown",
   "metadata": {},
   "source": [
    "**Task 8**: Complete the function *fit_approximation* below using eq. (7), (8) and (10).\n",
    "\n"
   ]
  },
  {
   "cell_type": "code",
   "execution_count": 11,
   "metadata": {},
   "outputs": [
    {
     "name": "stdout",
     "output_type": "stream",
     "text": [
      "Converged in 27 iterations\n"
     ]
    }
   ],
   "source": [
    "def fit_approximation(t, p0, sigma2, kappa2, max_itt=50, conv_tol=1e-12, verbose=False):\n",
    "    \"\"\" implements a fixed point algorithm for estimating phat, mhat and vhat\n",
    "\n",
    "        The function iterates the update equations (7), (8) and (10) for a maximum of max_itt iterations or until a convergece tolerance of conv_tol is reached.\n",
    "        That is, we declare convergence of the sum of squares for the variational parameters between two consequtive iterations is below conv_tol.\n",
    "    \n",
    "    \"\"\"\n",
    "    \n",
    "    # initialize variational parameters\n",
    "    mhat = 0\n",
    "    vhat = 1\n",
    "    phat = 0.5\n",
    "    \n",
    "    # for convergence testing\n",
    "    old_values = np.array([mhat, vhat, phat])\n",
    "    \n",
    "    # iterate\n",
    "    for itt in range(max_itt):\n",
    "                \n",
    "        # updaet vhat\n",
    "        vhat = ?\n",
    "        \n",
    "        # update mhat?\n",
    "        mhat = ?\n",
    "        \n",
    "        # update phat\n",
    "        phat = ?\n",
    "        \n",
    "        # check convergence\n",
    "        values = np.array([mhat, vhat, phat])\n",
    "        if np.sum((values-old_values)**2) < conv_tol:\n",
    "            if verbose:\n",
    "                print('Converged in %d iterations' % itt)\n",
    "            break\n",
    "        \n",
    "        old_values = values\n",
    "\n",
    "    return phat, mhat, vhat\n",
    "        \n",
    "t = 0.1    \n",
    "    \n",
    "phat, mhat, vhat = fit_approximation(t, p0=0.5, sigma2=0.1, kappa2=1, verbose=True)"
   ]
  },
  {
   "cell_type": "markdown",
   "metadata": {},
   "source": [
    "### Part 2.4: Comparing the approximation to the exact posterior"
   ]
  },
  {
   "cell_type": "markdown",
   "metadata": {},
   "source": [
    "***Task 9***: Repeat the plots from Part 1.3, but compute and plot the the variational approximation $q(s)$ on top. Repeat the plot for $p_0 \\in \\left\\lbrace 0.1, 0.5, 0.9\\right\\rbrace$."
   ]
  },
  {
   "attachments": {},
   "cell_type": "markdown",
   "metadata": {},
   "source": [
    "**Questions**\n",
    "\n",
    "1) Comment on the quality of the approximation. Is it equally good for all values of $t$ and $p_0$?\n",
    "\n",
    "2) Use to figures to argue that the variational approximation is **over-confident**\n",
    "\n",
    "*Hints*\n",
    "1. What happens near $t = 0$ for $p_0 = 0.1$ and for $p_0 = 0.9$?\n",
    "2. When do we have most uncertainty for a binary random variable, i.e. when is the variance or entropy maximized?"
   ]
  },
  {
   "cell_type": "markdown",
   "metadata": {},
   "source": [
    "### Part 3: The evidence lower bound"
   ]
  },
  {
   "cell_type": "markdown",
   "metadata": {},
   "source": [
    "The evidence lower bound (ELBO) $\\mathcal{L}\\left[q\\right]$ is a central quantity in variational inference and is defined as\n",
    "\n",
    "\\begin{align*}\n",
    "\\mathcal{L}(q) = \\mathbb{E}_q\\left[\\ln p(t, s, w)\\right] - \\mathbb{E}_q\\left[\\ln q(s, w)\\right],\n",
    "\\end{align*}\n",
    "\n",
    "\n",
    "In practice, we will often optimize this quantity directly as we will see next week.\n",
    "\n",
    "Recall the relationship\n",
    "\n",
    "$$\n",
    "\\ln p(t) = \\text{KL}[q||p] + \\mathcal{L}(q) \\geq \\mathcal{L}(q)\n",
    "$$\n",
    "\n",
    "and the fact that ELBO is a lower bound on the log marginal likelihood. For this reason the ELBO is also often used for hyperparameter tuning. Let $\\theta = \\left(\\sigma^2, \\kappa^2, p_0\\right)$ denote the hyperparameters of the model then we can write\n",
    "\n",
    "$$\n",
    "\\log p(t|\\theta) \\geq \\mathcal{L}_{\\theta}(q)\n",
    "$$\n",
    "\n",
    "and thus, simply maximizing $\\mathcal{L}_{\\theta}(q)$ wrt. $\\theta$ works well in practice for many models. \n",
    "\n",
    "\n"
   ]
  },
  {
   "attachments": {},
   "cell_type": "markdown",
   "metadata": {},
   "source": [
    "\n",
    "The evidence lower bound for this model can be found by a rather long, but somewhat straight-forward calculation\n",
    "\n",
    "\n",
    "$$\n",
    "\\begin{align*}\n",
    "\\mathcal{L}\\left[q\\right] &= \\mathbb{E}_{q(s)q(w)} \\left[\\ln p(t|s, w)p(s)p(w) \\right] - \\mathbb{E}_{q(s)q(w)} \\left[ \\ln q(s)q(w) \\right]\\\\\n",
    "%\n",
    "&= \\mathbb{E}_{q(s)q(w)} \\left[\\ln p(t|s, w) \\right] + \\mathbb{E}_{q(s)q(w)} \\left[ \\ln p(s) \\right] + \\mathbb{E}_{q(s)q(w)} \\left[ \\ln p(w) \\right] - \\mathbb{E}_{q(s)q(w)} \\left[ \\ln q(s) \\right] -  \\mathbb{E}_{q(s)q(w)} \\left[ q(w) \\right]\\\\\n",
    "%\n",
    "&= \\mathbb{E}_{q(s)q(w)} \\left[\\ln p(t|s, w) \\right] + \\mathbb{E}_{q(s)} \\left[ \\ln \n",
    "p(s) \\right] + \\mathbb{E}_{q(w)} \\left[ \\ln p(w) \\right] - \\mathbb{E}_{q(s)} \\left[ \\ln q(s) \\right] -  \\mathbb{E}_{q(w)} \\left[ \\ln q(w) \\right]\\\\\n",
    "%\n",
    "&=  \\underbrace{-\\frac{1}{2}\\ln(2\\pi\\sigma^2) - \\frac{1}{2\\sigma^2}(t^2 + \\hat{p}(\\hat{m}^2 + \\hat{v})-2t\\hat{p}\\hat{m})}_{\\mathbb{E}_{q(s)q(w)} \\left[\\ln p(t|s, w) \\right]}\n",
    "%\n",
    "+ \\underbrace{(1-\\hat{p})\\ln(1-p_0) + \\hat{p}\\ln(p_0)}_{- \\mathbb{E}_{q(s)q(w)} \\left[ \\ln q(s)q(w) \\right]}\n",
    "%\n",
    " \\underbrace{-\\frac{1}{2}\\ln(2\\pi\\kappa^2) - \\frac{1}{2\\kappa^2}\\left(\\hat{m}^2 + \\hat{v}\\right)}_{\\mathbb{E}_{q(s)q(w)} \\left[ \\ln p(w) \\right] }\n",
    " %\n",
    " \\underbrace{- (1-\\hat{p})\\ln(1-\\hat{p}) - \\hat{p}\\ln(\\hat{p})}_{- \\mathbb{E}_{q(s)q(w)} \\left[ \\ln q(s) \\right]}\n",
    " %\n",
    " %\n",
    "+ \\underbrace{\\frac{1}{2}\\ln(2\\pi e\\hat{v})}_{-  \\mathbb{E}_{q(w)} \\left[ \\ln q(w) \\right]}\n",
    "\\end{align*}\n",
    "$$\n",
    "\n",
    "You should be able to carry out calculations like this by now, but such calculations does require a decent amount of time to do and therefore, we have provided all the details for this calculation as an appendix by the end of the notebook to save you the time. If you are curious or not sure how to do such calculations, we suggest that you study the calculations below and feel free to ask questions about the details."
   ]
  },
  {
   "attachments": {},
   "cell_type": "markdown",
   "metadata": {},
   "source": [
    "### Part 3.1: Evaluating the lower bound\n"
   ]
  },
  {
   "cell_type": "code",
   "execution_count": 54,
   "metadata": {},
   "outputs": [
    {
     "data": {
      "image/png": "[encoded data removed]",
      "text/plain": [
       "<Figure size 1440x360 with 2 Axes>"
      ]
     },
     "metadata": {
      "needs_background": "light"
     },
     "output_type": "display_data"
    }
   ],
   "source": [
    "def bernoulli_entropy(p):\n",
    "    \"\"\" computes the entropy of a Bernoulli random variable Ber(p) \"\"\"\n",
    "    return ?\n",
    "\n",
    "def gauss_entropy(m, v):\n",
    "    \"\"\" computes the entropy of a Gaussian random variable N(m, v) \"\"\"\n",
    "    return ?\n",
    "\n",
    "\n",
    "def evaluate_elbo(t, phat, mhat, vhat):\n",
    "    \n",
    "    t1 = -0.5*np.log(2*np.pi*sigma2) - 1/(2*sigma2)*(t**2 + mhat**2*phat+vhat*phat - 2*t*mhat*phat )\n",
    "    t2 = (1-phat)*np.log(1-p0) + phat*np.log(p0)\n",
    "    t3 = -0.5*np.log(2*np.pi*kappa2) - 1/(2*kappa2)*(mhat**2 + vhat)\n",
    "    t4 = bernoulli_entropy(phat)\n",
    "    t5 = gauss_entropy(mhat, vhat)\n",
    "    \n",
    "    return t1+t2+t3+t4+t5\n",
    "\n",
    "# data and hyperparameters\n",
    "sigma2 = 0.1\n",
    "kappa2 = 1\n",
    "p0 = 0.2\n",
    "t = 1\n",
    "\n",
    "# evaluate ELBO as a function of iterations\n",
    "max_itt = 10\n",
    "elbos = np.zeros(max_itt)\n",
    "for itt in range(max_itt):\n",
    "    phat, mhat, vhat = fit_approximation(t, p0, sigma2, kappa2, max_itt=itt, conv_tol=1e-10)\n",
    "    elbos[itt] = evaluate_elbo(t, phat, mhat, vhat)\n",
    "\n",
    "# compute exact marginal likelihood\n",
    "log_exact = np.log(marginal_likelihood(t, p0, sigma2, kappa2))\n",
    "\n",
    "\n",
    "fig, axes = plt.subplots(1, 2, figsize=(20, 5))\n",
    "axes[0].plot(elbos, label='lowerbound $\\mathcal{L}$')\n",
    "axes[0].set(xlabel='Iterations', ylabel='ELBO', title='ELBO vs iterations')\n",
    "axes[0].axhline(log_exact, linestyle='--', color='g', label='Exact marginal likelihood')\n",
    "axes[0].legend()\n",
    "axes[1].plot(log_exact - elbos)\n",
    "axes[1].set(xlabel='Iterations', ylabel='KL Divergence', title='KL divergence vs iterations', ylim=(-0.5, 10));\n"
   ]
  },
  {
   "attachments": {},
   "cell_type": "markdown",
   "metadata": {},
   "source": [
    "***Task 11***: Complete the implementation of the two functions for computing the entropy a Bernoulli and a Gaussian random variable above.\n",
    "\n",
    "**Questions**\n",
    "\n",
    "1) Explain what you see in the figure. What is the relationship between the blue curves in the two plots?\n",
    "\n",
    "2) How is the KL divergence computed? and why can we do this in this example?\n"
   ]
  },
  {
   "attachments": {},
   "cell_type": "markdown",
   "metadata": {},
   "source": [
    "### Appendix: Complete calculation of ELBO"
   ]
  },
  {
   "cell_type": "markdown",
   "metadata": {},
   "source": [
    "\n",
    "The evidence lower bound for this model can be found by a rather long, but straight-forward calculation\n",
    "\n",
    "$$\n",
    "\\begin{align*}\n",
    "\\mathcal{L}\\left[q\\right] &= \\mathbb{E}_{q(s)q(w)} \\left[\\ln p(t|s, w)p(s)p(w) \\right] - \\mathbb{E}_{q(s)q(w)} \\left[ \\ln q(s)q(w) \\right]\\\\\n",
    "%\n",
    "&= \\mathbb{E}_{q(s)q(w)} \\left[\\ln p(t|s, w) \\right] + \\mathbb{E}_{q(s)q(w)} \\left[ \\ln p(s) \\right] + \\mathbb{E}_{q(s)q(w)} \\left[ \\ln p(w) \\right] - \\mathbb{E}_{q(s)q(w)} \\left[ \\ln q(s) \\right] -  \\mathbb{E}_{q(s)q(w)} \\left[ q(w) \\right]\\\\\n",
    "%\n",
    "&= \\mathbb{E}_{q(s)q(w)} \\left[\\ln p(t|s, w) \\right] + \\mathbb{E}_{q(s)} \\left[ \\ln \n",
    "p(s) \\right] + \\mathbb{E}_{q(w)} \\left[ \\ln p(w) \\right] - \\mathbb{E}_{q(s)} \\left[ \\ln q(s) \\right] -  \\mathbb{E}_{q(w)} \\left[ \\ln q(w) \\right]\n",
    "\\end{align*}\n",
    "$$\n",
    "\n",
    "The terms $- \\mathbb{E}_{q(s)} \\left[ \\ln q(s) \\right]$ and $-  \\mathbb{E}_{q(w)} \\left[ \\ln q(w) \\right]$ are the **entropy** of $q(s)$ and $q(w)$, respectively.\n",
    "\n",
    "Let's calculate all terms. The first term\n",
    "\n",
    "$$\n",
    "\\begin{align*}\n",
    "\\mathbb{E}_{q(s)q(w)} \\left[\\ln p(t|s, w) \\right] &= \\mathbb{E}_{q(s)q(w)} \\left[-\\frac{1}{2}\\ln(2\\pi\\sigma^2) - \\frac{1}{2\\sigma^2}(t-sw)^2 \\right]\\\\\n",
    "%\n",
    "&= \\mathbb{E}_{q(s)q(w)} \\left[-\\frac{1}{2}\\ln(2\\pi\\sigma^2) - \\frac{1}{2\\sigma^2}(t^2 + s^2w^2-2tsw) \\right]\\\\\n",
    "%\n",
    "&= \\mathbb{E}_{q(s)q(w)} \\left[-\\frac{1}{2}\\ln(2\\pi\\sigma^2) - \\frac{1}{2\\sigma^2}(t^2 + s^2w^2-2tsw) \\right]\\\\\n",
    "%t\n",
    "&= -\\frac{1}{2}\\ln(2\\pi\\sigma^2) - \\frac{1}{2\\sigma^2}(t^2 + \\mathbb{E}_{q(s)} \\left[s^2\\right]\\mathbb{E}_{q(w)} \\left[w^2\\right]-2t\\mathbb{E}_{q(s)} \\left[s\\right]\\mathbb{E}_{q(w)} \\left[w\\right])\\\\\n",
    "%\n",
    "&= -\\frac{1}{2}\\ln(2\\pi\\sigma^2) - \\frac{1}{2\\sigma^2}(t^2 + \\hat{p}(\\hat{m}^2 + \\hat{v})-2t\\hat{p}\\hat{m})\\\\\n",
    "%\n",
    "\\end{align*}\n",
    "$$"
   ]
  },
  {
   "attachments": {},
   "cell_type": "markdown",
   "metadata": {},
   "source": [
    "The second term\n",
    "\n",
    "$$\n",
    "\\begin{align}\n",
    " \\mathbb{E}_{q(s)} \\left[ \\ln p(s) \\right] = q(s=0)\\ln p(s=0) + q(s=1) \\ln p(s=1) &= (1-\\hat{p})\\ln(1-p_0) + \\hat{p}\\ln(p_0)\n",
    "\\end{align}\n",
    "$$"
   ]
  },
  {
   "attachments": {},
   "cell_type": "markdown",
   "metadata": {},
   "source": [
    "The third term\n",
    "\n",
    "\n",
    "$$\n",
    "\\begin{align*}\n",
    " \\mathbb{E}_{q(w)} \\left[ \\ln p(w) \\right] &= \\mathbb{E}_{q(w)} \\left[ -\\frac{1}{2}\\ln(2\\pi\\kappa^2) - \\frac{1}{2\\kappa^2}w^2\\right]\\\\\n",
    " %\n",
    " &=   -\\frac{1}{2}\\ln(2\\pi\\kappa^2) - \\frac{1}{2\\kappa^2}\\mathbb{E}_{q(w)} \\left[w^2\\right]\\\\\n",
    " %\n",
    " &=   -\\frac{1}{2}\\ln(2\\pi\\kappa^2) - \\frac{1}{2\\kappa^2}\\left(\\hat{m}^2 + \\hat{v}\\right)\n",
    "\\end{align*}\n",
    "$$\n",
    "\n",
    "The fourth term (-negative entropy of $q(s)$) is given by\n",
    "\n",
    "$$\n",
    "\\begin{align*}\n",
    " \\mathbb{E}_{q(s)} \\left[ \\ln q(s) \\right] = q(s=0)\\ln q(s=0) + q(s=1) \\ln q(s=1) &= (1-\\hat{p})\\ln(1-\\hat{p}) + \\hat{p}\\ln(\\hat{p})\n",
    "\\end{align*}\n",
    "$$\n",
    "\n",
    "The last term is the (negative) posterior entropy of $w$\n",
    "\n",
    "\n",
    "$$\n",
    "\\begin{align*}\n",
    " \\mathbb{E}_{q(w)} \\left[ \\ln q(w) \\right] &= \\mathbb{E}_{q(w)} \\left[ -\\frac{1}{2}\\ln(2\\pi\\hat{v}) - \\frac{1}{2\\hat{v}}(w-\\hat{m})^2\\right]\\\\\n",
    " %\n",
    " &= -\\frac{1}{2}\\ln(2\\pi\\hat{v}) - \\frac{1}{2\\hat{v}} \\mathbb{E}_{q(w)} \\left[(w-\\hat{m})^2\\right]\\\\\n",
    " %\n",
    " &= -\\frac{1}{2}\\ln(2\\pi\\hat{v}) - \\frac{1}{2\\hat{v}} \\mathbb{E}_{q(w)} \\left[w^2 + \\hat{m}^2 - 2w\\hat{m}\\right]\\\\\n",
    " %\n",
    " &= -\\frac{1}{2}\\ln(2\\pi\\hat{v}) - \\frac{1}{2\\hat{v}}  \\left(\\hat{m}^2 + \\hat{v} + \\hat{m}^2 - 2\\hat{m}^2\\right)\\\\\n",
    " %\n",
    " &= -\\frac{1}{2}\\ln(2\\pi\\hat{v}) - \\frac{1}{2}\\\\\n",
    " %\n",
    " &= -\\frac{1}{2}\\ln(2\\pi\\hat{v}) - \\frac{1}{2}\\ln(e)\\\\\n",
    " &= -\\frac{1}{2}\\ln(2\\pi e\\hat{v})\n",
    "\\end{align*}\n",
    "$$"
   ]
  },
  {
   "attachments": {},
   "cell_type": "markdown",
   "metadata": {},
   "source": [
    "Putting everything together yields\n",
    "\n",
    "$$\n",
    "\\begin{align*}\n",
    "\\mathcal{L}\\left[q\\right] &= -\\frac{1}{2}\\ln(2\\pi\\sigma^2) - \\frac{1}{2\\sigma^2}(t^2 + \\hat{p}(\\hat{m}^2 + \\hat{v})-2t\\hat{p}\\hat{m}) + (1-\\hat{p})\\ln(1-p_0) + \\hat{p}\\ln(p_0)  -\\frac{1}{2}\\ln(2\\pi\\kappa^2) - \\frac{1}{2\\kappa^2}\\left(\\hat{m}^2 + \\hat{v}\\right) - (1-\\hat{p})\\ln(1-\\hat{p}) - \\hat{p}\\ln(\\hat{p}) + \\frac{1}{2}\\ln(2\\pi e\\hat{v})\n",
    "\\end{align*}\n",
    "$$"
   ]
  }
 ],
 "metadata": {
  "kernelspec": {
   "display_name": "Python 3",
   "language": "python",
   "name": "python3"
  },
  "language_info": {
   "codemirror_mode": {
    "name": "ipython",
    "version": 3
   },
   "file_extension": ".py",
   "mimetype": "text/x-python",
   "name": "python",
   "nbconvert_exporter": "python",
   "pygments_lexer": "ipython3",
   "version": "3.7.4"
  }
 },
 "nbformat": 4,
 "nbformat_minor": 2
}
