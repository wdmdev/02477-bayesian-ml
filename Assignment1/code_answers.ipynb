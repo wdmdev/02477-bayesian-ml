{
 "cells": [
  {
   "attachments": {},
   "cell_type": "markdown",
   "metadata": {},
   "source": [
    "# Code Answers for Assignment 1"
   ]
  },
  {
   "attachments": {},
   "cell_type": "markdown",
   "metadata": {},
   "source": [
    "## Task 1.2"
   ]
  },
  {
   "cell_type": "code",
   "execution_count": 1,
   "metadata": {},
   "outputs": [
    {
     "name": "stdout",
     "output_type": "stream",
     "text": [
      "Credibility interval: [0.013751215664364491,0.27294359967336845]\n"
     ]
    }
   ],
   "source": [
    "from scipy.stats import beta\n",
    "\n",
    "lower = beta.ppf(0.025, 2, 17)\n",
    "upper = beta.ppf(0.975, 2, 17)\n",
    "\n",
    "print(f\"Credibility interval: [{lower},{upper}]\")"
   ]
  },
  {
   "attachments": {},
   "cell_type": "markdown",
   "metadata": {},
   "source": [
    "## Task 1.3"
   ]
  },
  {
   "cell_type": "code",
   "execution_count": 2,
   "metadata": {},
   "outputs": [
    {
     "name": "stdout",
     "output_type": "stream",
     "text": [
      "Credibility interval: [0.05173082948627347,0.24557677631553135]\n"
     ]
    }
   ],
   "source": [
    "from scipy.stats import beta\n",
    "\n",
    "lower = beta.ppf(0.025, 6, 39)\n",
    "upper = beta.ppf(0.975, 6, 39)\n",
    "\n",
    "print(f\"Credibility interval: [{lower},{upper}]\")"
   ]
  }
 ],
 "metadata": {
  "kernelspec": {
   "display_name": "bayesian",
   "language": "python",
   "name": "python3"
  },
  "language_info": {
   "codemirror_mode": {
    "name": "ipython",
    "version": 3
   },
   "file_extension": ".py",
   "mimetype": "text/x-python",
   "name": "python",
   "nbconvert_exporter": "python",
   "pygments_lexer": "ipython3",
   "version": "3.10.9"
  },
  "orig_nbformat": 4,
  "vscode": {
   "interpreter": {
    "hash": "af2494f4e244db538dfdf083730de6b55fe705372b74f5022378b99ea368f88e"
   }
  }
 },
 "nbformat": 4,
 "nbformat_minor": 2
}
